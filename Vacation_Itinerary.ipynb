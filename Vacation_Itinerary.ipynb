{
  "nbformat": 4,
  "nbformat_minor": 0,
  "metadata": {
    "colab": {
      "name": "Vacation_Itinerary",
      "provenance": [],
      "collapsed_sections": []
    },
    "kernelspec": {
      "name": "python3",
      "display_name": "Python 3"
    }
  },
  "cells": [
    {
      "cell_type": "code",
      "metadata": {
        "id": "_4x5DVx1Yx3V",
        "colab_type": "code",
        "colab": {}
      },
      "source": [
        "# Dependencies and Setup\n",
        "import pandas as pd\n",
        "import requests\n",
        "import gmaps\n",
        "\n",
        "# Import API key\n",
        "from config import g_key\n",
        "\n",
        "# Configure gmaps\n",
        "gmaps.configure(api_key=g_key)"
      ],
      "execution_count": null,
      "outputs": []
    },
    {
      "cell_type": "code",
      "metadata": {
        "id": "S-DBSs3sYzV_",
        "colab_type": "code",
        "colab": {}
      },
      "source": [
        "# 1. Read the WeatherPy_vacation.csv into a DataFrame.\n",
        "vacation_df = pd.read_csv(\"Vacation_Search/WeatherPy_vacation.csv\")\n",
        "vacation_df.head()"
      ],
      "execution_count": null,
      "outputs": []
    },
    {
      "cell_type": "code",
      "metadata": {
        "id": "TPUhD-IYY9K_",
        "colab_type": "code",
        "colab": {}
      },
      "source": [
        "# 2. Using the template add the city name, the country code, the weather description and maximum temperature for the city.\n",
        "info_box_template = \"\"\"\n",
        "\n",
        "\"\"\"\n",
        "\n",
        "# 3a. Get the data from each row and add it to the formatting template and store the data in a list.\n",
        "hotel_info = [info_box_template.format(**row) for index, row in clean_hotel_df.iterrows()]\n",
        "\n",
        "# 3b. Get the latitude and longitude from each row and store in a new DataFrame.\n",
        "locations = clean_hotel_df[[\"Lat\", \"Lng\"]]"
      ],
      "execution_count": null,
      "outputs": []
    },
    {
      "cell_type": "code",
      "metadata": {
        "id": "uyoPecGzZjg3",
        "colab_type": "code",
        "colab": {}
      },
      "source": [
        "# 4a. Add a marker layer for each city to the map.\n",
        "\n",
        "# 4b. Display the figure\n",
        "\n"
      ],
      "execution_count": null,
      "outputs": []
    },
    {
      "cell_type": "code",
      "metadata": {
        "id": "zboOdcxGZp-m",
        "colab_type": "code",
        "colab": {}
      },
      "source": [
        "# From the map above pick 4 cities and create a vacation itinerary route to travel between the four cities. \n",
        "# 5. Create DataFrames for each city by filtering the 'vacation_df' using the loc method. \n",
        "# Hint: The starting and ending city should be the same city.\n",
        "\n",
        "vacation_start = vacation_df.loc[]\n",
        "vacation_end = vacation_df.loc[]\n",
        "vacation_stop1 = vacation_df.loc[]\n",
        "vacation_stop2 = vacation_df.loc[] \n",
        "vacation_stop3 = vacation_df.loc[] "
      ],
      "execution_count": null,
      "outputs": []
    },
    {
      "cell_type": "code",
      "metadata": {
        "id": "4RdIoMI_ZtVw",
        "colab_type": "code",
        "colab": {}
      },
      "source": [
        "# 6. Get the latitude-longitude pairs as tuples from each city DataFrame using the to_numpy function and list indexing.\n",
        "start = \n",
        "end = \n",
        "stop1 = \n",
        "stop2 = \n",
        "stop3 = "
      ],
      "execution_count": null,
      "outputs": []
    },
    {
      "cell_type": "code",
      "metadata": {
        "id": "H8AMrLPVaOx4",
        "colab_type": "code",
        "colab": {}
      },
      "source": [
        "# 7. Create a direction layer map using the start and end latitude-longitude pairs,\n",
        "# and stop1, stop2, and stop3 as the waypoints. The travel_mode should be \"DRIVING\", \"BICYCLING\", or \"WALKING\".\n",
        "\n"
      ],
      "execution_count": null,
      "outputs": []
    },
    {
      "cell_type": "code",
      "metadata": {
        "id": "etpO8zWOaR_w",
        "colab_type": "code",
        "colab": {}
      },
      "source": [
        "# 8. To create a marker layer map between the four cities.\n",
        "#  Combine the four city DataFrames into one DataFrame using the concat() function.\n",
        "itinerary_df = pd.concat([],ignore_index=True)\n",
        "itinerary_df"
      ],
      "execution_count": null,
      "outputs": []
    },
    {
      "cell_type": "code",
      "metadata": {
        "id": "33yJ4JjMaZLI",
        "colab_type": "code",
        "colab": {}
      },
      "source": [
        "# 9 Using the template add city name, the country code, the weather description and maximum temperature for the city. \n",
        "info_box_template = \"\"\"\n",
        "\n",
        "\"\"\"\n",
        "\n",
        "# 10a Get the data from each row and add it to the formatting template and store the data in a list.\n",
        "hotel_info = [info_box_template.format(**row) for index, row in itinerary_df.iterrows()]\n",
        "\n",
        "# 10b. Get the latitude and longitude from each row and store in a new DataFrame.\n",
        "locations = itinerary_df[[\"Lat\", \"Lng\"]]"
      ],
      "execution_count": null,
      "outputs": []
    },
    {
      "cell_type": "code",
      "metadata": {
        "id": "h5F2NIVFad8g",
        "colab_type": "code",
        "colab": {}
      },
      "source": [
        "# 11a. Add a marker layer for each city to the map.\n",
        "\n",
        "# 11b. Display the figure\n"
      ],
      "execution_count": null,
      "outputs": []
    }
  ]
}