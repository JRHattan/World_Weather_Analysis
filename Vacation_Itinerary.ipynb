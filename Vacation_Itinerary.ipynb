{
  "nbformat": 4,
  "nbformat_minor": 0,
  "metadata": {
    "colab": {
      "name": "Vacation_Itinerary",
      "provenance": [],
      "collapsed_sections": []
    },
    "kernelspec": {
      "name": "python3",
      "display_name": "Python 3"
    }
  },
  "cells": [
    {
      "cell_type": "code",
      "metadata": {
        "id": "Cz4noVTYdI4i",
        "colab_type": "code",
        "colab": {
          "base_uri": "https://localhost:8080/",
          "height": 1000
        },
        "outputId": "b9d7b799-721d-408d-f91a-5c341fe0f531"
      },
      "source": [
        "!pip install gmaps\n",
        "!pip install ipywidgets\n",
        "!pip install widgetsnbextension\n",
        "!pip install citipy"
      ],
      "execution_count": 1,
      "outputs": [
        {
          "output_type": "stream",
          "text": [
            "Collecting gmaps\n",
            "\u001b[?25l  Downloading https://files.pythonhosted.org/packages/4c/aa/4e659d3ab6efe55c265d8159c845e9168e4c79045aef8e5460f9511cc3a7/gmaps-0.9.0.tar.gz (1.1MB)\n",
            "\r\u001b[K     |▎                               | 10kB 18.7MB/s eta 0:00:01\r\u001b[K     |▋                               | 20kB 6.8MB/s eta 0:00:01\r\u001b[K     |█                               | 30kB 6.1MB/s eta 0:00:01\r\u001b[K     |█▎                              | 40kB 6.2MB/s eta 0:00:01\r\u001b[K     |█▌                              | 51kB 6.1MB/s eta 0:00:01\r\u001b[K     |█▉                              | 61kB 6.8MB/s eta 0:00:01\r\u001b[K     |██▏                             | 71kB 6.7MB/s eta 0:00:01\r\u001b[K     |██▌                             | 81kB 6.4MB/s eta 0:00:01\r\u001b[K     |██▉                             | 92kB 6.4MB/s eta 0:00:01\r\u001b[K     |███                             | 102kB 6.6MB/s eta 0:00:01\r\u001b[K     |███▍                            | 112kB 6.6MB/s eta 0:00:01\r\u001b[K     |███▊                            | 122kB 6.6MB/s eta 0:00:01\r\u001b[K     |████                            | 133kB 6.6MB/s eta 0:00:01\r\u001b[K     |████▍                           | 143kB 6.6MB/s eta 0:00:01\r\u001b[K     |████▋                           | 153kB 6.6MB/s eta 0:00:01\r\u001b[K     |█████                           | 163kB 6.6MB/s eta 0:00:01\r\u001b[K     |█████▎                          | 174kB 6.6MB/s eta 0:00:01\r\u001b[K     |█████▋                          | 184kB 6.6MB/s eta 0:00:01\r\u001b[K     |██████                          | 194kB 6.6MB/s eta 0:00:01\r\u001b[K     |██████▏                         | 204kB 6.6MB/s eta 0:00:01\r\u001b[K     |██████▌                         | 215kB 6.6MB/s eta 0:00:01\r\u001b[K     |██████▉                         | 225kB 6.6MB/s eta 0:00:01\r\u001b[K     |███████▏                        | 235kB 6.6MB/s eta 0:00:01\r\u001b[K     |███████▌                        | 245kB 6.6MB/s eta 0:00:01\r\u001b[K     |███████▊                        | 256kB 6.6MB/s eta 0:00:01\r\u001b[K     |████████                        | 266kB 6.6MB/s eta 0:00:01\r\u001b[K     |████████▍                       | 276kB 6.6MB/s eta 0:00:01\r\u001b[K     |████████▊                       | 286kB 6.6MB/s eta 0:00:01\r\u001b[K     |█████████                       | 296kB 6.6MB/s eta 0:00:01\r\u001b[K     |█████████▎                      | 307kB 6.6MB/s eta 0:00:01\r\u001b[K     |█████████▋                      | 317kB 6.6MB/s eta 0:00:01\r\u001b[K     |██████████                      | 327kB 6.6MB/s eta 0:00:01\r\u001b[K     |██████████▎                     | 337kB 6.6MB/s eta 0:00:01\r\u001b[K     |██████████▋                     | 348kB 6.6MB/s eta 0:00:01\r\u001b[K     |██████████▉                     | 358kB 6.6MB/s eta 0:00:01\r\u001b[K     |███████████▏                    | 368kB 6.6MB/s eta 0:00:01\r\u001b[K     |███████████▌                    | 378kB 6.6MB/s eta 0:00:01\r\u001b[K     |███████████▉                    | 389kB 6.6MB/s eta 0:00:01\r\u001b[K     |████████████▏                   | 399kB 6.6MB/s eta 0:00:01\r\u001b[K     |████████████▍                   | 409kB 6.6MB/s eta 0:00:01\r\u001b[K     |████████████▊                   | 419kB 6.6MB/s eta 0:00:01\r\u001b[K     |█████████████                   | 430kB 6.6MB/s eta 0:00:01\r\u001b[K     |█████████████▍                  | 440kB 6.6MB/s eta 0:00:01\r\u001b[K     |█████████████▊                  | 450kB 6.6MB/s eta 0:00:01\r\u001b[K     |██████████████                  | 460kB 6.6MB/s eta 0:00:01\r\u001b[K     |██████████████▎                 | 471kB 6.6MB/s eta 0:00:01\r\u001b[K     |██████████████▋                 | 481kB 6.6MB/s eta 0:00:01\r\u001b[K     |███████████████                 | 491kB 6.6MB/s eta 0:00:01\r\u001b[K     |███████████████▎                | 501kB 6.6MB/s eta 0:00:01\r\u001b[K     |███████████████▌                | 512kB 6.6MB/s eta 0:00:01\r\u001b[K     |███████████████▉                | 522kB 6.6MB/s eta 0:00:01\r\u001b[K     |████████████████▏               | 532kB 6.6MB/s eta 0:00:01\r\u001b[K     |████████████████▌               | 542kB 6.6MB/s eta 0:00:01\r\u001b[K     |████████████████▉               | 552kB 6.6MB/s eta 0:00:01\r\u001b[K     |█████████████████               | 563kB 6.6MB/s eta 0:00:01\r\u001b[K     |█████████████████▍              | 573kB 6.6MB/s eta 0:00:01\r\u001b[K     |█████████████████▊              | 583kB 6.6MB/s eta 0:00:01\r\u001b[K     |██████████████████              | 593kB 6.6MB/s eta 0:00:01\r\u001b[K     |██████████████████▍             | 604kB 6.6MB/s eta 0:00:01\r\u001b[K     |██████████████████▋             | 614kB 6.6MB/s eta 0:00:01\r\u001b[K     |███████████████████             | 624kB 6.6MB/s eta 0:00:01\r\u001b[K     |███████████████████▎            | 634kB 6.6MB/s eta 0:00:01\r\u001b[K     |███████████████████▋            | 645kB 6.6MB/s eta 0:00:01\r\u001b[K     |████████████████████            | 655kB 6.6MB/s eta 0:00:01\r\u001b[K     |████████████████████▏           | 665kB 6.6MB/s eta 0:00:01\r\u001b[K     |████████████████████▌           | 675kB 6.6MB/s eta 0:00:01\r\u001b[K     |████████████████████▉           | 686kB 6.6MB/s eta 0:00:01\r\u001b[K     |█████████████████████▏          | 696kB 6.6MB/s eta 0:00:01\r\u001b[K     |█████████████████████▌          | 706kB 6.6MB/s eta 0:00:01\r\u001b[K     |█████████████████████▊          | 716kB 6.6MB/s eta 0:00:01\r\u001b[K     |██████████████████████          | 727kB 6.6MB/s eta 0:00:01\r\u001b[K     |██████████████████████▍         | 737kB 6.6MB/s eta 0:00:01\r\u001b[K     |██████████████████████▊         | 747kB 6.6MB/s eta 0:00:01\r\u001b[K     |███████████████████████         | 757kB 6.6MB/s eta 0:00:01\r\u001b[K     |███████████████████████▎        | 768kB 6.6MB/s eta 0:00:01\r\u001b[K     |███████████████████████▋        | 778kB 6.6MB/s eta 0:00:01\r\u001b[K     |████████████████████████        | 788kB 6.6MB/s eta 0:00:01\r\u001b[K     |████████████████████████▎       | 798kB 6.6MB/s eta 0:00:01\r\u001b[K     |████████████████████████▋       | 808kB 6.6MB/s eta 0:00:01\r\u001b[K     |████████████████████████▉       | 819kB 6.6MB/s eta 0:00:01\r\u001b[K     |█████████████████████████▏      | 829kB 6.6MB/s eta 0:00:01\r\u001b[K     |█████████████████████████▌      | 839kB 6.6MB/s eta 0:00:01\r\u001b[K     |█████████████████████████▉      | 849kB 6.6MB/s eta 0:00:01\r\u001b[K     |██████████████████████████▏     | 860kB 6.6MB/s eta 0:00:01\r\u001b[K     |██████████████████████████▍     | 870kB 6.6MB/s eta 0:00:01\r\u001b[K     |██████████████████████████▊     | 880kB 6.6MB/s eta 0:00:01\r\u001b[K     |███████████████████████████     | 890kB 6.6MB/s eta 0:00:01\r\u001b[K     |███████████████████████████▍    | 901kB 6.6MB/s eta 0:00:01\r\u001b[K     |███████████████████████████▊    | 911kB 6.6MB/s eta 0:00:01\r\u001b[K     |████████████████████████████    | 921kB 6.6MB/s eta 0:00:01\r\u001b[K     |████████████████████████████▎   | 931kB 6.6MB/s eta 0:00:01\r\u001b[K     |████████████████████████████▋   | 942kB 6.6MB/s eta 0:00:01\r\u001b[K     |█████████████████████████████   | 952kB 6.6MB/s eta 0:00:01\r\u001b[K     |█████████████████████████████▎  | 962kB 6.6MB/s eta 0:00:01\r\u001b[K     |█████████████████████████████▌  | 972kB 6.6MB/s eta 0:00:01\r\u001b[K     |█████████████████████████████▉  | 983kB 6.6MB/s eta 0:00:01\r\u001b[K     |██████████████████████████████▏ | 993kB 6.6MB/s eta 0:00:01\r\u001b[K     |██████████████████████████████▌ | 1.0MB 6.6MB/s eta 0:00:01\r\u001b[K     |██████████████████████████████▉ | 1.0MB 6.6MB/s eta 0:00:01\r\u001b[K     |███████████████████████████████ | 1.0MB 6.6MB/s eta 0:00:01\r\u001b[K     |███████████████████████████████▍| 1.0MB 6.6MB/s eta 0:00:01\r\u001b[K     |███████████████████████████████▊| 1.0MB 6.6MB/s eta 0:00:01\r\u001b[K     |████████████████████████████████| 1.1MB 6.6MB/s \n",
            "\u001b[?25hRequirement already satisfied: ipython>=5.3.0 in /usr/local/lib/python3.6/dist-packages (from gmaps) (5.5.0)\n",
            "Requirement already satisfied: ipywidgets>=7.0.0 in /usr/local/lib/python3.6/dist-packages (from gmaps) (7.5.1)\n",
            "Requirement already satisfied: traitlets>=4.3.0 in /usr/local/lib/python3.6/dist-packages (from gmaps) (4.3.3)\n",
            "Collecting geojson>=2.0.0\n",
            "  Downloading https://files.pythonhosted.org/packages/e4/8d/9e28e9af95739e6d2d2f8d4bef0b3432da40b7c3588fbad4298c1be09e48/geojson-2.5.0-py2.py3-none-any.whl\n",
            "Requirement already satisfied: six in /usr/local/lib/python3.6/dist-packages (from gmaps) (1.15.0)\n",
            "Requirement already satisfied: prompt-toolkit<2.0.0,>=1.0.4 in /usr/local/lib/python3.6/dist-packages (from ipython>=5.3.0->gmaps) (1.0.18)\n",
            "Requirement already satisfied: pexpect; sys_platform != \"win32\" in /usr/local/lib/python3.6/dist-packages (from ipython>=5.3.0->gmaps) (4.8.0)\n",
            "Requirement already satisfied: pygments in /usr/local/lib/python3.6/dist-packages (from ipython>=5.3.0->gmaps) (2.1.3)\n",
            "Requirement already satisfied: decorator in /usr/local/lib/python3.6/dist-packages (from ipython>=5.3.0->gmaps) (4.4.2)\n",
            "Requirement already satisfied: simplegeneric>0.8 in /usr/local/lib/python3.6/dist-packages (from ipython>=5.3.0->gmaps) (0.8.1)\n",
            "Requirement already satisfied: setuptools>=18.5 in /usr/local/lib/python3.6/dist-packages (from ipython>=5.3.0->gmaps) (49.6.0)\n",
            "Requirement already satisfied: pickleshare in /usr/local/lib/python3.6/dist-packages (from ipython>=5.3.0->gmaps) (0.7.5)\n",
            "Requirement already satisfied: widgetsnbextension~=3.5.0 in /usr/local/lib/python3.6/dist-packages (from ipywidgets>=7.0.0->gmaps) (3.5.1)\n",
            "Requirement already satisfied: nbformat>=4.2.0 in /usr/local/lib/python3.6/dist-packages (from ipywidgets>=7.0.0->gmaps) (5.0.7)\n",
            "Requirement already satisfied: ipykernel>=4.5.1 in /usr/local/lib/python3.6/dist-packages (from ipywidgets>=7.0.0->gmaps) (4.10.1)\n",
            "Requirement already satisfied: ipython-genutils in /usr/local/lib/python3.6/dist-packages (from traitlets>=4.3.0->gmaps) (0.2.0)\n",
            "Requirement already satisfied: wcwidth in /usr/local/lib/python3.6/dist-packages (from prompt-toolkit<2.0.0,>=1.0.4->ipython>=5.3.0->gmaps) (0.2.5)\n",
            "Requirement already satisfied: ptyprocess>=0.5 in /usr/local/lib/python3.6/dist-packages (from pexpect; sys_platform != \"win32\"->ipython>=5.3.0->gmaps) (0.6.0)\n",
            "Requirement already satisfied: notebook>=4.4.1 in /usr/local/lib/python3.6/dist-packages (from widgetsnbextension~=3.5.0->ipywidgets>=7.0.0->gmaps) (5.3.1)\n",
            "Requirement already satisfied: jupyter-core in /usr/local/lib/python3.6/dist-packages (from nbformat>=4.2.0->ipywidgets>=7.0.0->gmaps) (4.6.3)\n",
            "Requirement already satisfied: jsonschema!=2.5.0,>=2.4 in /usr/local/lib/python3.6/dist-packages (from nbformat>=4.2.0->ipywidgets>=7.0.0->gmaps) (2.6.0)\n",
            "Requirement already satisfied: jupyter-client in /usr/local/lib/python3.6/dist-packages (from ipykernel>=4.5.1->ipywidgets>=7.0.0->gmaps) (5.3.5)\n",
            "Requirement already satisfied: tornado>=4.0 in /usr/local/lib/python3.6/dist-packages (from ipykernel>=4.5.1->ipywidgets>=7.0.0->gmaps) (5.1.1)\n",
            "Requirement already satisfied: terminado>=0.8.1 in /usr/local/lib/python3.6/dist-packages (from notebook>=4.4.1->widgetsnbextension~=3.5.0->ipywidgets>=7.0.0->gmaps) (0.8.3)\n",
            "Requirement already satisfied: nbconvert in /usr/local/lib/python3.6/dist-packages (from notebook>=4.4.1->widgetsnbextension~=3.5.0->ipywidgets>=7.0.0->gmaps) (5.6.1)\n",
            "Requirement already satisfied: jinja2 in /usr/local/lib/python3.6/dist-packages (from notebook>=4.4.1->widgetsnbextension~=3.5.0->ipywidgets>=7.0.0->gmaps) (2.11.2)\n",
            "Requirement already satisfied: Send2Trash in /usr/local/lib/python3.6/dist-packages (from notebook>=4.4.1->widgetsnbextension~=3.5.0->ipywidgets>=7.0.0->gmaps) (1.5.0)\n",
            "Requirement already satisfied: pyzmq>=13 in /usr/local/lib/python3.6/dist-packages (from jupyter-client->ipykernel>=4.5.1->ipywidgets>=7.0.0->gmaps) (19.0.2)\n",
            "Requirement already satisfied: python-dateutil>=2.1 in /usr/local/lib/python3.6/dist-packages (from jupyter-client->ipykernel>=4.5.1->ipywidgets>=7.0.0->gmaps) (2.8.1)\n",
            "Requirement already satisfied: entrypoints>=0.2.2 in /usr/local/lib/python3.6/dist-packages (from nbconvert->notebook>=4.4.1->widgetsnbextension~=3.5.0->ipywidgets>=7.0.0->gmaps) (0.3)\n",
            "Requirement already satisfied: bleach in /usr/local/lib/python3.6/dist-packages (from nbconvert->notebook>=4.4.1->widgetsnbextension~=3.5.0->ipywidgets>=7.0.0->gmaps) (3.1.5)\n",
            "Requirement already satisfied: testpath in /usr/local/lib/python3.6/dist-packages (from nbconvert->notebook>=4.4.1->widgetsnbextension~=3.5.0->ipywidgets>=7.0.0->gmaps) (0.4.4)\n",
            "Requirement already satisfied: mistune<2,>=0.8.1 in /usr/local/lib/python3.6/dist-packages (from nbconvert->notebook>=4.4.1->widgetsnbextension~=3.5.0->ipywidgets>=7.0.0->gmaps) (0.8.4)\n",
            "Requirement already satisfied: pandocfilters>=1.4.1 in /usr/local/lib/python3.6/dist-packages (from nbconvert->notebook>=4.4.1->widgetsnbextension~=3.5.0->ipywidgets>=7.0.0->gmaps) (1.4.2)\n",
            "Requirement already satisfied: defusedxml in /usr/local/lib/python3.6/dist-packages (from nbconvert->notebook>=4.4.1->widgetsnbextension~=3.5.0->ipywidgets>=7.0.0->gmaps) (0.6.0)\n",
            "Requirement already satisfied: MarkupSafe>=0.23 in /usr/local/lib/python3.6/dist-packages (from jinja2->notebook>=4.4.1->widgetsnbextension~=3.5.0->ipywidgets>=7.0.0->gmaps) (1.1.1)\n",
            "Requirement already satisfied: webencodings in /usr/local/lib/python3.6/dist-packages (from bleach->nbconvert->notebook>=4.4.1->widgetsnbextension~=3.5.0->ipywidgets>=7.0.0->gmaps) (0.5.1)\n",
            "Requirement already satisfied: packaging in /usr/local/lib/python3.6/dist-packages (from bleach->nbconvert->notebook>=4.4.1->widgetsnbextension~=3.5.0->ipywidgets>=7.0.0->gmaps) (20.4)\n",
            "Requirement already satisfied: pyparsing>=2.0.2 in /usr/local/lib/python3.6/dist-packages (from packaging->bleach->nbconvert->notebook>=4.4.1->widgetsnbextension~=3.5.0->ipywidgets>=7.0.0->gmaps) (2.4.7)\n",
            "Building wheels for collected packages: gmaps\n",
            "  Building wheel for gmaps (setup.py) ... \u001b[?25l\u001b[?25hdone\n",
            "  Created wheel for gmaps: filename=gmaps-0.9.0-py2.py3-none-any.whl size=2076096 sha256=4311760c6e8f55e2f142b5ab04eca8f9c080e51836ba62cff375fde98ea8283e\n",
            "  Stored in directory: /root/.cache/pip/wheels/33/eb/41/5302168c36fc8ce8f48143bb58fde1015d5bc0c62bc3ddbb38\n",
            "Successfully built gmaps\n",
            "Installing collected packages: geojson, gmaps\n",
            "Successfully installed geojson-2.5.0 gmaps-0.9.0\n",
            "Requirement already satisfied: ipywidgets in /usr/local/lib/python3.6/dist-packages (7.5.1)\n",
            "Requirement already satisfied: ipython>=4.0.0; python_version >= \"3.3\" in /usr/local/lib/python3.6/dist-packages (from ipywidgets) (5.5.0)\n",
            "Requirement already satisfied: widgetsnbextension~=3.5.0 in /usr/local/lib/python3.6/dist-packages (from ipywidgets) (3.5.1)\n",
            "Requirement already satisfied: nbformat>=4.2.0 in /usr/local/lib/python3.6/dist-packages (from ipywidgets) (5.0.7)\n",
            "Requirement already satisfied: traitlets>=4.3.1 in /usr/local/lib/python3.6/dist-packages (from ipywidgets) (4.3.3)\n",
            "Requirement already satisfied: ipykernel>=4.5.1 in /usr/local/lib/python3.6/dist-packages (from ipywidgets) (4.10.1)\n",
            "Requirement already satisfied: setuptools>=18.5 in /usr/local/lib/python3.6/dist-packages (from ipython>=4.0.0; python_version >= \"3.3\"->ipywidgets) (49.6.0)\n",
            "Requirement already satisfied: simplegeneric>0.8 in /usr/local/lib/python3.6/dist-packages (from ipython>=4.0.0; python_version >= \"3.3\"->ipywidgets) (0.8.1)\n",
            "Requirement already satisfied: pickleshare in /usr/local/lib/python3.6/dist-packages (from ipython>=4.0.0; python_version >= \"3.3\"->ipywidgets) (0.7.5)\n",
            "Requirement already satisfied: pexpect; sys_platform != \"win32\" in /usr/local/lib/python3.6/dist-packages (from ipython>=4.0.0; python_version >= \"3.3\"->ipywidgets) (4.8.0)\n",
            "Requirement already satisfied: decorator in /usr/local/lib/python3.6/dist-packages (from ipython>=4.0.0; python_version >= \"3.3\"->ipywidgets) (4.4.2)\n",
            "Requirement already satisfied: pygments in /usr/local/lib/python3.6/dist-packages (from ipython>=4.0.0; python_version >= \"3.3\"->ipywidgets) (2.1.3)\n",
            "Requirement already satisfied: prompt-toolkit<2.0.0,>=1.0.4 in /usr/local/lib/python3.6/dist-packages (from ipython>=4.0.0; python_version >= \"3.3\"->ipywidgets) (1.0.18)\n",
            "Requirement already satisfied: notebook>=4.4.1 in /usr/local/lib/python3.6/dist-packages (from widgetsnbextension~=3.5.0->ipywidgets) (5.3.1)\n",
            "Requirement already satisfied: ipython-genutils in /usr/local/lib/python3.6/dist-packages (from nbformat>=4.2.0->ipywidgets) (0.2.0)\n",
            "Requirement already satisfied: jsonschema!=2.5.0,>=2.4 in /usr/local/lib/python3.6/dist-packages (from nbformat>=4.2.0->ipywidgets) (2.6.0)\n",
            "Requirement already satisfied: jupyter-core in /usr/local/lib/python3.6/dist-packages (from nbformat>=4.2.0->ipywidgets) (4.6.3)\n",
            "Requirement already satisfied: six in /usr/local/lib/python3.6/dist-packages (from traitlets>=4.3.1->ipywidgets) (1.15.0)\n",
            "Requirement already satisfied: jupyter-client in /usr/local/lib/python3.6/dist-packages (from ipykernel>=4.5.1->ipywidgets) (5.3.5)\n",
            "Requirement already satisfied: tornado>=4.0 in /usr/local/lib/python3.6/dist-packages (from ipykernel>=4.5.1->ipywidgets) (5.1.1)\n",
            "Requirement already satisfied: ptyprocess>=0.5 in /usr/local/lib/python3.6/dist-packages (from pexpect; sys_platform != \"win32\"->ipython>=4.0.0; python_version >= \"3.3\"->ipywidgets) (0.6.0)\n",
            "Requirement already satisfied: wcwidth in /usr/local/lib/python3.6/dist-packages (from prompt-toolkit<2.0.0,>=1.0.4->ipython>=4.0.0; python_version >= \"3.3\"->ipywidgets) (0.2.5)\n",
            "Requirement already satisfied: jinja2 in /usr/local/lib/python3.6/dist-packages (from notebook>=4.4.1->widgetsnbextension~=3.5.0->ipywidgets) (2.11.2)\n",
            "Requirement already satisfied: Send2Trash in /usr/local/lib/python3.6/dist-packages (from notebook>=4.4.1->widgetsnbextension~=3.5.0->ipywidgets) (1.5.0)\n",
            "Requirement already satisfied: nbconvert in /usr/local/lib/python3.6/dist-packages (from notebook>=4.4.1->widgetsnbextension~=3.5.0->ipywidgets) (5.6.1)\n",
            "Requirement already satisfied: terminado>=0.8.1 in /usr/local/lib/python3.6/dist-packages (from notebook>=4.4.1->widgetsnbextension~=3.5.0->ipywidgets) (0.8.3)\n",
            "Requirement already satisfied: pyzmq>=13 in /usr/local/lib/python3.6/dist-packages (from jupyter-client->ipykernel>=4.5.1->ipywidgets) (19.0.2)\n",
            "Requirement already satisfied: python-dateutil>=2.1 in /usr/local/lib/python3.6/dist-packages (from jupyter-client->ipykernel>=4.5.1->ipywidgets) (2.8.1)\n",
            "Requirement already satisfied: MarkupSafe>=0.23 in /usr/local/lib/python3.6/dist-packages (from jinja2->notebook>=4.4.1->widgetsnbextension~=3.5.0->ipywidgets) (1.1.1)\n",
            "Requirement already satisfied: entrypoints>=0.2.2 in /usr/local/lib/python3.6/dist-packages (from nbconvert->notebook>=4.4.1->widgetsnbextension~=3.5.0->ipywidgets) (0.3)\n",
            "Requirement already satisfied: pandocfilters>=1.4.1 in /usr/local/lib/python3.6/dist-packages (from nbconvert->notebook>=4.4.1->widgetsnbextension~=3.5.0->ipywidgets) (1.4.2)\n",
            "Requirement already satisfied: testpath in /usr/local/lib/python3.6/dist-packages (from nbconvert->notebook>=4.4.1->widgetsnbextension~=3.5.0->ipywidgets) (0.4.4)\n",
            "Requirement already satisfied: defusedxml in /usr/local/lib/python3.6/dist-packages (from nbconvert->notebook>=4.4.1->widgetsnbextension~=3.5.0->ipywidgets) (0.6.0)\n",
            "Requirement already satisfied: bleach in /usr/local/lib/python3.6/dist-packages (from nbconvert->notebook>=4.4.1->widgetsnbextension~=3.5.0->ipywidgets) (3.1.5)\n",
            "Requirement already satisfied: mistune<2,>=0.8.1 in /usr/local/lib/python3.6/dist-packages (from nbconvert->notebook>=4.4.1->widgetsnbextension~=3.5.0->ipywidgets) (0.8.4)\n",
            "Requirement already satisfied: packaging in /usr/local/lib/python3.6/dist-packages (from bleach->nbconvert->notebook>=4.4.1->widgetsnbextension~=3.5.0->ipywidgets) (20.4)\n",
            "Requirement already satisfied: webencodings in /usr/local/lib/python3.6/dist-packages (from bleach->nbconvert->notebook>=4.4.1->widgetsnbextension~=3.5.0->ipywidgets) (0.5.1)\n",
            "Requirement already satisfied: pyparsing>=2.0.2 in /usr/local/lib/python3.6/dist-packages (from packaging->bleach->nbconvert->notebook>=4.4.1->widgetsnbextension~=3.5.0->ipywidgets) (2.4.7)\n",
            "Requirement already satisfied: widgetsnbextension in /usr/local/lib/python3.6/dist-packages (3.5.1)\n",
            "Requirement already satisfied: notebook>=4.4.1 in /usr/local/lib/python3.6/dist-packages (from widgetsnbextension) (5.3.1)\n",
            "Requirement already satisfied: tornado>=4 in /usr/local/lib/python3.6/dist-packages (from notebook>=4.4.1->widgetsnbextension) (5.1.1)\n",
            "Requirement already satisfied: nbformat in /usr/local/lib/python3.6/dist-packages (from notebook>=4.4.1->widgetsnbextension) (5.0.7)\n",
            "Requirement already satisfied: Send2Trash in /usr/local/lib/python3.6/dist-packages (from notebook>=4.4.1->widgetsnbextension) (1.5.0)\n",
            "Requirement already satisfied: ipython-genutils in /usr/local/lib/python3.6/dist-packages (from notebook>=4.4.1->widgetsnbextension) (0.2.0)\n",
            "Requirement already satisfied: nbconvert in /usr/local/lib/python3.6/dist-packages (from notebook>=4.4.1->widgetsnbextension) (5.6.1)\n",
            "Requirement already satisfied: jinja2 in /usr/local/lib/python3.6/dist-packages (from notebook>=4.4.1->widgetsnbextension) (2.11.2)\n",
            "Requirement already satisfied: ipykernel in /usr/local/lib/python3.6/dist-packages (from notebook>=4.4.1->widgetsnbextension) (4.10.1)\n",
            "Requirement already satisfied: terminado>=0.8.1 in /usr/local/lib/python3.6/dist-packages (from notebook>=4.4.1->widgetsnbextension) (0.8.3)\n",
            "Requirement already satisfied: jupyter-core>=4.4.0 in /usr/local/lib/python3.6/dist-packages (from notebook>=4.4.1->widgetsnbextension) (4.6.3)\n",
            "Requirement already satisfied: traitlets>=4.2.1 in /usr/local/lib/python3.6/dist-packages (from notebook>=4.4.1->widgetsnbextension) (4.3.3)\n",
            "Requirement already satisfied: jupyter-client>=5.2.0 in /usr/local/lib/python3.6/dist-packages (from notebook>=4.4.1->widgetsnbextension) (5.3.5)\n",
            "Requirement already satisfied: jsonschema!=2.5.0,>=2.4 in /usr/local/lib/python3.6/dist-packages (from nbformat->notebook>=4.4.1->widgetsnbextension) (2.6.0)\n",
            "Requirement already satisfied: pandocfilters>=1.4.1 in /usr/local/lib/python3.6/dist-packages (from nbconvert->notebook>=4.4.1->widgetsnbextension) (1.4.2)\n",
            "Requirement already satisfied: entrypoints>=0.2.2 in /usr/local/lib/python3.6/dist-packages (from nbconvert->notebook>=4.4.1->widgetsnbextension) (0.3)\n",
            "Requirement already satisfied: pygments in /usr/local/lib/python3.6/dist-packages (from nbconvert->notebook>=4.4.1->widgetsnbextension) (2.1.3)\n",
            "Requirement already satisfied: testpath in /usr/local/lib/python3.6/dist-packages (from nbconvert->notebook>=4.4.1->widgetsnbextension) (0.4.4)\n",
            "Requirement already satisfied: mistune<2,>=0.8.1 in /usr/local/lib/python3.6/dist-packages (from nbconvert->notebook>=4.4.1->widgetsnbextension) (0.8.4)\n",
            "Requirement already satisfied: bleach in /usr/local/lib/python3.6/dist-packages (from nbconvert->notebook>=4.4.1->widgetsnbextension) (3.1.5)\n",
            "Requirement already satisfied: defusedxml in /usr/local/lib/python3.6/dist-packages (from nbconvert->notebook>=4.4.1->widgetsnbextension) (0.6.0)\n",
            "Requirement already satisfied: MarkupSafe>=0.23 in /usr/local/lib/python3.6/dist-packages (from jinja2->notebook>=4.4.1->widgetsnbextension) (1.1.1)\n",
            "Requirement already satisfied: ipython>=4.0.0 in /usr/local/lib/python3.6/dist-packages (from ipykernel->notebook>=4.4.1->widgetsnbextension) (5.5.0)\n",
            "Requirement already satisfied: ptyprocess; os_name != \"nt\" in /usr/local/lib/python3.6/dist-packages (from terminado>=0.8.1->notebook>=4.4.1->widgetsnbextension) (0.6.0)\n",
            "Requirement already satisfied: six in /usr/local/lib/python3.6/dist-packages (from traitlets>=4.2.1->notebook>=4.4.1->widgetsnbextension) (1.15.0)\n",
            "Requirement already satisfied: decorator in /usr/local/lib/python3.6/dist-packages (from traitlets>=4.2.1->notebook>=4.4.1->widgetsnbextension) (4.4.2)\n",
            "Requirement already satisfied: python-dateutil>=2.1 in /usr/local/lib/python3.6/dist-packages (from jupyter-client>=5.2.0->notebook>=4.4.1->widgetsnbextension) (2.8.1)\n",
            "Requirement already satisfied: pyzmq>=13 in /usr/local/lib/python3.6/dist-packages (from jupyter-client>=5.2.0->notebook>=4.4.1->widgetsnbextension) (19.0.2)\n",
            "Requirement already satisfied: webencodings in /usr/local/lib/python3.6/dist-packages (from bleach->nbconvert->notebook>=4.4.1->widgetsnbextension) (0.5.1)\n",
            "Requirement already satisfied: packaging in /usr/local/lib/python3.6/dist-packages (from bleach->nbconvert->notebook>=4.4.1->widgetsnbextension) (20.4)\n",
            "Requirement already satisfied: prompt-toolkit<2.0.0,>=1.0.4 in /usr/local/lib/python3.6/dist-packages (from ipython>=4.0.0->ipykernel->notebook>=4.4.1->widgetsnbextension) (1.0.18)\n",
            "Requirement already satisfied: simplegeneric>0.8 in /usr/local/lib/python3.6/dist-packages (from ipython>=4.0.0->ipykernel->notebook>=4.4.1->widgetsnbextension) (0.8.1)\n",
            "Requirement already satisfied: pickleshare in /usr/local/lib/python3.6/dist-packages (from ipython>=4.0.0->ipykernel->notebook>=4.4.1->widgetsnbextension) (0.7.5)\n",
            "Requirement already satisfied: setuptools>=18.5 in /usr/local/lib/python3.6/dist-packages (from ipython>=4.0.0->ipykernel->notebook>=4.4.1->widgetsnbextension) (49.6.0)\n",
            "Requirement already satisfied: pexpect; sys_platform != \"win32\" in /usr/local/lib/python3.6/dist-packages (from ipython>=4.0.0->ipykernel->notebook>=4.4.1->widgetsnbextension) (4.8.0)\n",
            "Requirement already satisfied: pyparsing>=2.0.2 in /usr/local/lib/python3.6/dist-packages (from packaging->bleach->nbconvert->notebook>=4.4.1->widgetsnbextension) (2.4.7)\n",
            "Requirement already satisfied: wcwidth in /usr/local/lib/python3.6/dist-packages (from prompt-toolkit<2.0.0,>=1.0.4->ipython>=4.0.0->ipykernel->notebook>=4.4.1->widgetsnbextension) (0.2.5)\n",
            "Collecting citipy\n",
            "\u001b[?25l  Downloading https://files.pythonhosted.org/packages/3b/d0/59721d0f3954781488aac17ee4a40412d0a3547e98bb16377a09c39a2807/citipy-0.0.5.tar.gz (557kB)\n",
            "\u001b[K     |████████████████████████████████| 563kB 9.2MB/s \n",
            "\u001b[?25hCollecting kdtree>=0.12\n",
            "  Downloading https://files.pythonhosted.org/packages/00/3d/bd727d025b1706798aae14da3f69fc7d5a8639dc9e0eba37c7dcd43eb03e/kdtree-0.16-py2.py3-none-any.whl\n",
            "Building wheels for collected packages: citipy\n",
            "  Building wheel for citipy (setup.py) ... \u001b[?25l\u001b[?25hdone\n",
            "  Created wheel for citipy: filename=citipy-0.0.5-cp36-none-any.whl size=559702 sha256=bd7f182595198e6f48d65de405e4918b560077b7eab74dd7b03f021ee91dae93\n",
            "  Stored in directory: /root/.cache/pip/wheels/6f/07/0d/0392639cf1c10376f59decd06775c0e085ca2458c6036c1028\n",
            "Successfully built citipy\n",
            "Installing collected packages: kdtree, citipy\n",
            "Successfully installed citipy-0.0.5 kdtree-0.16\n"
          ],
          "name": "stdout"
        }
      ]
    },
    {
      "cell_type": "code",
      "metadata": {
        "id": "_4x5DVx1Yx3V",
        "colab_type": "code",
        "colab": {}
      },
      "source": [
        "# Dependencies and Setup\n",
        "import pandas as pd\n",
        "import requests\n",
        "import gmaps\n",
        "\n",
        "# Import API key\n",
        "from config import g_key\n",
        "\n",
        "# Configure gmaps\n",
        "gmaps.configure(api_key=g_key)"
      ],
      "execution_count": null,
      "outputs": []
    },
    {
      "cell_type": "code",
      "metadata": {
        "id": "S-DBSs3sYzV_",
        "colab_type": "code",
        "colab": {}
      },
      "source": [
        "# 1. Read the WeatherPy_vacation.csv into a DataFrame.\n",
        "vacation_df = pd.read_csv(\"Vacation_Search/WeatherPy_vacation.csv\")\n",
        "vacation_df.head()"
      ],
      "execution_count": null,
      "outputs": []
    },
    {
      "cell_type": "code",
      "metadata": {
        "id": "TPUhD-IYY9K_",
        "colab_type": "code",
        "colab": {}
      },
      "source": [
        "# 2. Using the template add the city name, the country code, the weather description and maximum temperature for the city.\n",
        "info_box_template = \"\"\"\n",
        "<dl>\n",
        "<dt>City</dt><dd>{City}</dd>\n",
        "<dt>Country</dt><dd>{Country}</dd>\n",
        "<dt>Weather Description</dt><dd>{Current Status}</dd>\n",
        "<dt>Max Temp</dt><dd>{Max Temp} °F</dd>\n",
        "</dl>\n",
        "\"\"\"\n",
        "# 3a. Get the data from each row and add it to the formatting template and store the data in a list.\n",
        "hotel_info = [info_box_template.format(**row) for index, row in clean_hotel_df.iterrows()]\n",
        "\n",
        "# 3b. Get the latitude and longitude from each row and store in a new DataFrame.\n",
        "locations = clean_hotel_df[[\"Lat\", \"Lng\"]]"
      ],
      "execution_count": null,
      "outputs": []
    },
    {
      "cell_type": "code",
      "metadata": {
        "id": "uyoPecGzZjg3",
        "colab_type": "code",
        "colab": {}
      },
      "source": [
        "# 4a. Add a marker layer for each city to the map.\n",
        "fig = gmaps.figure(center=(30.0, 31.0), zoom_level=1.5)\n",
        "# 4b. Display the figure\n",
        "marker_layer = gmaps.marker_layer(locations, info_box_content=hotel_info)\n",
        "fig.add_layer(marker_layer)\n",
        "fig.add_layer(hotel_info)\n",
        "\n",
        "# Call the figure to plot the data.\n",
        "fig\n"
      ],
      "execution_count": null,
      "outputs": []
    },
    {
      "cell_type": "code",
      "metadata": {
        "id": "zboOdcxGZp-m",
        "colab_type": "code",
        "colab": {}
      },
      "source": [
        "# From the map above pick 4 cities and create a vacation itinerary route to travel between the four cities. \n",
        "# 5. Create DataFrames for each city by filtering the 'vacation_df' using the loc method. \n",
        "# Hint: The starting and ending city should be the same city.\n",
        "\n",
        "vacation_start = vacation_df.loc[\"city\"]\n",
        "vacation_end = vacation_df.loc[0]\n",
        "vacation_stop1 = vacation_df.loc[1]\n",
        "vacation_stop2 = vacation_df.loc[2] \n",
        "vacation_stop3 = vacation_df.loc[2] "
      ],
      "execution_count": null,
      "outputs": []
    },
    {
      "cell_type": "code",
      "metadata": {
        "id": "4RdIoMI_ZtVw",
        "colab_type": "code",
        "colab": {}
      },
      "source": [
        "# 6. Get the latitude-longitude pairs as tuples from each city DataFrame using the to_numpy function and list indexing.\n",
        "start = \n",
        "end = \n",
        "stop1 = \n",
        "stop2 = \n",
        "stop3 = "
      ],
      "execution_count": null,
      "outputs": []
    },
    {
      "cell_type": "code",
      "metadata": {
        "id": "H8AMrLPVaOx4",
        "colab_type": "code",
        "colab": {}
      },
      "source": [
        "# 7. Create a direction layer map using the start and end latitude-longitude pairs,\n",
        "# and stop1, stop2, and stop3 as the waypoints. The travel_mode should be \"DRIVING\", \"BICYCLING\", or \"WALKING\".\n",
        "\n"
      ],
      "execution_count": null,
      "outputs": []
    },
    {
      "cell_type": "code",
      "metadata": {
        "id": "etpO8zWOaR_w",
        "colab_type": "code",
        "colab": {}
      },
      "source": [
        "# 8. To create a marker layer map between the four cities.\n",
        "#  Combine the four city DataFrames into one DataFrame using the concat() function.\n",
        "itinerary_df = pd.concat([],ignore_index=True)\n",
        "itinerary_df"
      ],
      "execution_count": null,
      "outputs": []
    },
    {
      "cell_type": "code",
      "metadata": {
        "id": "33yJ4JjMaZLI",
        "colab_type": "code",
        "colab": {}
      },
      "source": [
        "# 9 Using the template add city name, the country code, the weather description and maximum temperature for the city. \n",
        "info_box_template = \"\"\"\n",
        "\n",
        "\"\"\"\n",
        "\n",
        "# 10a Get the data from each row and add it to the formatting template and store the data in a list.\n",
        "hotel_info = [info_box_template.format(**row) for index, row in itinerary_df.iterrows()]\n",
        "\n",
        "# 10b. Get the latitude and longitude from each row and store in a new DataFrame.\n",
        "locations = itinerary_df[[\"Lat\", \"Lng\"]]"
      ],
      "execution_count": null,
      "outputs": []
    },
    {
      "cell_type": "code",
      "metadata": {
        "id": "h5F2NIVFad8g",
        "colab_type": "code",
        "colab": {}
      },
      "source": [
        "# 11a. Add a marker layer for each city to the map.\n",
        "\n",
        "# 11b. Display the figure\n"
      ],
      "execution_count": null,
      "outputs": []
    }
  ]
}