{
  "nbformat": 4,
  "nbformat_minor": 0,
  "metadata": {
    "colab": {
      "name": "Vacation_Search.ipynb",
      "provenance": [],
      "collapsed_sections": []
    },
    "kernelspec": {
      "name": "python3",
      "display_name": "Python 3"
    }
  },
  "cells": [
    {
      "cell_type": "code",
      "metadata": {
        "id": "J9ziMMyddjss",
        "colab_type": "code",
        "colab": {}
      },
      "source": [
        "# Dependencies and Setup\n",
        "import pandas as pd\n",
        "import requests\n",
        "import gmaps\n",
        "\n",
        "# Import API key\n",
        "from config import g_key\n",
        "\n",
        "# Configure gmaps API key\n",
        "gmaps.configure(api_key=g_key)"
      ],
      "execution_count": null,
      "outputs": []
    },
    {
      "cell_type": "code",
      "metadata": {
        "id": "wVK_cVNkdkm3",
        "colab_type": "code",
        "colab": {
          "base_uri": "https://localhost:8080/",
          "height": 197
        },
        "outputId": "8c69bbff-d8cb-4d8a-8214-e16a56477bf6"
      },
      "source": [
        "# 1. Import the WeatherPy_database.csv file. \n",
        "city_data_df = pd.read_csv(\"Weather_Database/WeatherPy_database.csv\")\n",
        "city_data_df.head()\n"
      ],
      "execution_count": 1,
      "outputs": [
        {
          "output_type": "error",
          "ename": "NameError",
          "evalue": "ignored",
          "traceback": [
            "\u001b[0;31m---------------------------------------------------------------------------\u001b[0m",
            "\u001b[0;31mNameError\u001b[0m                                 Traceback (most recent call last)",
            "\u001b[0;32m<ipython-input-1-9a7a98d7ac81>\u001b[0m in \u001b[0;36m<module>\u001b[0;34m()\u001b[0m\n\u001b[1;32m      1\u001b[0m \u001b[0;31m# Convert the array of dictionaries to a Pandas DataFrame.\u001b[0m\u001b[0;34m\u001b[0m\u001b[0;34m\u001b[0m\u001b[0;34m\u001b[0m\u001b[0m\n\u001b[0;32m----> 2\u001b[0;31m \u001b[0mweather_df\u001b[0m \u001b[0;34m=\u001b[0m \u001b[0mpd\u001b[0m\u001b[0;34m.\u001b[0m\u001b[0mDataFrame\u001b[0m\u001b[0;34m(\u001b[0m\u001b[0mcity_data\u001b[0m\u001b[0;34m)\u001b[0m\u001b[0;34m\u001b[0m\u001b[0;34m\u001b[0m\u001b[0m\n\u001b[0m\u001b[1;32m      3\u001b[0m \u001b[0mcity_data_df\u001b[0m\u001b[0;34m.\u001b[0m\u001b[0mhead\u001b[0m\u001b[0;34m(\u001b[0m\u001b[0;36m10\u001b[0m\u001b[0;34m)\u001b[0m\u001b[0;34m\u001b[0m\u001b[0;34m\u001b[0m\u001b[0m\n",
            "\u001b[0;31mNameError\u001b[0m: name 'pd' is not defined"
          ]
        }
      ]
    },
    {
      "cell_type": "code",
      "metadata": {
        "id": "0M_cYKopi4Uq",
        "colab_type": "code",
        "colab": {}
      },
      "source": [
        "# 2. Prompt the user to enter minimum and maximum temperature criteria \n",
        "min_temp = float(input(\"What is the minimum temperature you would like for your trip? \"))\n",
        "max_temp = float(input(\"What is the maximum temperature you would like for your trip? \"))"
      ],
      "execution_count": null,
      "outputs": []
    },
    {
      "cell_type": "code",
      "metadata": {
        "id": "PicvOq5zjJFg",
        "colab_type": "code",
        "colab": {}
      },
      "source": [
        "# 3. Filter the city_data_df DataFrame using the input statements to create a new DataFrame using the loc method.\n",
        "\n",
        "preferred_cities_df = city_data_df.loc[(city_data_df[\"Max Temp\"] <= max_temp) & \\\n",
        "                                       (city_data_df[\"Max Temp\"] >= min_temp)]\n",
        "preferred_cities_df.head(10)"
      ],
      "execution_count": null,
      "outputs": []
    },
    {
      "cell_type": "code",
      "metadata": {
        "id": "nHrcNVM-kTbY",
        "colab_type": "code",
        "colab": {}
      },
      "source": [
        "# 4a. Determine if there are any empty rows.\n",
        "preferred_cities_df.count()\n",
        "\n",
        "preferred_cities_df = dropna(preferred_cities_df)"
      ],
      "execution_count": null,
      "outputs": []
    },
    {
      "cell_type": "code",
      "metadata": {
        "id": "VBml-ASV0DvP",
        "colab_type": "code",
        "colab": {}
      },
      "source": [
        "# 5a. Create DataFrame called hotel_df to store hotel names along with city, country, max temp, and coordinates.\n",
        "hotel_df = clean_df[[\"City\", \"Country\", \"Max Temp\", \"Current Description\", \"Lat\", \"Lng\"]].copy()\n",
        "\n",
        "# 5b. Create a new column \"Hotel Name\"\n",
        "hotel_df[\"Hotel Name\"] = \"\"\n",
        "hotel_df.head(10)"
      ],
      "execution_count": null,
      "outputs": []
    },
    {
      "cell_type": "code",
      "metadata": {
        "id": "uWdKGapq-M87",
        "colab_type": "code",
        "colab": {}
      },
      "source": [
        "# 6a. Set parameters to search for hotels with 5000 meters.\n",
        "params = {\n",
        "    \"radius\": 5000,\n",
        "    \"type\": \"lodging\",\n",
        "    \"key\": g_key\n",
        "}\n",
        "\n",
        "# 6b. Iterate through the hotel DataFrame.\n",
        "for index, row in hotel_df.iterrows():\n",
        "    # 6c. Get latitude and longitude from DataFrame\n",
        "    lat = row[\"Lat\"]\n",
        "    lng = row[\"Lng\"]\n",
        "    \n",
        "    # 6d. Set up the base URL for the Google Directions API to get JSON data.\n",
        "    base_url = \"https://maps.googleapis.com/maps/api/place/nearbysearch/json\"\n",
        "\n",
        "    # 6e. Make request and retrieve the JSON data from the search. \n",
        "    hotels = requests.get(base_url, params=params, lat, lng).json()\n",
        "    \n",
        "    # 6f. Get the first hotel from the results and store the name, if a hotel isn't found skip the city.\n",
        "    hotel_df.loc[index, \"Hotel Name\"] = hotels[\"results\"][0][\"name\"]\n",
        "    \n",
        "# Grab the first hotel from the results and store the name.\n",
        "    try:\n",
        "      hotel_df.loc[index, \"Hotel Name\"] = hotels[\"results\"][0][\"name\"]\n",
        "    except (IndexError):\n",
        "      print(\"Hotel not found... skipping.\")"
      ],
      "execution_count": null,
      "outputs": []
    },
    {
      "cell_type": "code",
      "metadata": {
        "id": "c_6sA8A7-PbP",
        "colab_type": "code",
        "colab": {}
      },
      "source": [
        "# 7. Drop the rows where there is no Hotel Name.\n"
      ],
      "execution_count": null,
      "outputs": []
    },
    {
      "cell_type": "code",
      "metadata": {
        "id": "lLneJPTG-S-O",
        "colab_type": "code",
        "colab": {}
      },
      "source": [
        "# 8a. Create the output File (CSV)\n",
        "\n",
        "# 8b. Export the City_Data into a csv\n",
        "clean_hotel_df.to_csv(output_data_file, index_label=\"City_ID\")"
      ],
      "execution_count": null,
      "outputs": []
    }
  ]
}