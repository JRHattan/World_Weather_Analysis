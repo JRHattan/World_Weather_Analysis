{
  "nbformat": 4,
  "nbformat_minor": 0,
  "metadata": {
    "colab": {
      "name": "random_numbers.ipynb",
      "provenance": []
    },
    "kernelspec": {
      "name": "python3",
      "display_name": "Python 3"
    }
  },
  "cells": [
    {
      "cell_type": "code",
      "metadata": {
        "id": "7_7JisC_JmHK",
        "colab_type": "code",
        "colab": {}
      },
      "source": [
        "import random\n",
        "# Import the NumPy module.\n",
        "import numpy as np\n",
        "# Import timeit.\n",
        "import timeit"
      ],
      "execution_count": 17,
      "outputs": []
    },
    {
      "cell_type": "code",
      "metadata": {
        "id": "MZdiuxLzJ_eK",
        "colab_type": "code",
        "colab": {
          "base_uri": "https://localhost:8080/",
          "height": 34
        },
        "outputId": "eec185d3-8957-4edf-81a8-b30df0782386"
      },
      "source": [
        "random.randint(-90, 90)"
      ],
      "execution_count": 7,
      "outputs": [
        {
          "output_type": "execute_result",
          "data": {
            "text/plain": [
              "20"
            ]
          },
          "metadata": {
            "tags": []
          },
          "execution_count": 7
        }
      ]
    },
    {
      "cell_type": "code",
      "metadata": {
        "id": "z_O34Qv-hqtc",
        "colab_type": "code",
        "colab": {
          "base_uri": "https://localhost:8080/",
          "height": 34
        },
        "outputId": "812b1cd8-4d05-4685-affa-58e92bd97e62"
      },
      "source": [
        "random.random()"
      ],
      "execution_count": 8,
      "outputs": [
        {
          "output_type": "execute_result",
          "data": {
            "text/plain": [
              "0.13123864951100073"
            ]
          },
          "metadata": {
            "tags": []
          },
          "execution_count": 8
        }
      ]
    },
    {
      "cell_type": "code",
      "metadata": {
        "id": "WHYzz4oDiACD",
        "colab_type": "code",
        "colab": {}
      },
      "source": [
        "x = 1\n",
        "latitudes = []\n",
        "while x < 11:\n",
        "    random_lat = random.randint(-90, 89) + random.random()\n",
        "    latitudes.append(random_lat)\n",
        "    x += 1"
      ],
      "execution_count": 9,
      "outputs": []
    },
    {
      "cell_type": "code",
      "metadata": {
        "id": "u2ZYGGUkiDUN",
        "colab_type": "code",
        "colab": {
          "base_uri": "https://localhost:8080/",
          "height": 187
        },
        "outputId": "94be34da-f328-4f7c-846e-21bdb89aa5a0"
      },
      "source": [
        "latitudes"
      ],
      "execution_count": 10,
      "outputs": [
        {
          "output_type": "execute_result",
          "data": {
            "text/plain": [
              "[-9.841233197249151,\n",
              " -60.87544911545311,\n",
              " -46.9638660406785,\n",
              " 85.01454374180028,\n",
              " 77.63165718530718,\n",
              " -37.077621021074236,\n",
              " -12.394881442497953,\n",
              " 79.39819442113162,\n",
              " 74.16286931107447,\n",
              " 24.184891454002774]"
            ]
          },
          "metadata": {
            "tags": []
          },
          "execution_count": 10
        }
      ]
    },
    {
      "cell_type": "code",
      "metadata": {
        "id": "9MeeC1eEiWiU",
        "colab_type": "code",
        "colab": {
          "base_uri": "https://localhost:8080/",
          "height": 34
        },
        "outputId": "d32d796f-d2c9-4852-ca79-6e3a300bf2f3"
      },
      "source": [
        "random.randrange(-90, 90, step=1)"
      ],
      "execution_count": 11,
      "outputs": [
        {
          "output_type": "execute_result",
          "data": {
            "text/plain": [
              "-64"
            ]
          },
          "metadata": {
            "tags": []
          },
          "execution_count": 11
        }
      ]
    },
    {
      "cell_type": "code",
      "metadata": {
        "id": "DUEpujSnienE",
        "colab_type": "code",
        "colab": {
          "base_uri": "https://localhost:8080/",
          "height": 34
        },
        "outputId": "4f76280f-75e2-4d9c-86bd-b5592b9bcc94"
      },
      "source": [
        "random.randrange(-90, 90, step=3)"
      ],
      "execution_count": 12,
      "outputs": [
        {
          "output_type": "execute_result",
          "data": {
            "text/plain": [
              "-57"
            ]
          },
          "metadata": {
            "tags": []
          },
          "execution_count": 12
        }
      ]
    },
    {
      "cell_type": "code",
      "metadata": {
        "id": "O61oSlo2ijfD",
        "colab_type": "code",
        "colab": {
          "base_uri": "https://localhost:8080/",
          "height": 34
        },
        "outputId": "d49f8efd-ab5b-4bc9-8659-3387be9aba53"
      },
      "source": [
        "random.uniform(-90, 90)"
      ],
      "execution_count": 13,
      "outputs": [
        {
          "output_type": "execute_result",
          "data": {
            "text/plain": [
              "20.29721743889003"
            ]
          },
          "metadata": {
            "tags": []
          },
          "execution_count": 13
        }
      ]
    },
    {
      "cell_type": "code",
      "metadata": {
        "id": "Po6C8Q_KiqHy",
        "colab_type": "code",
        "colab": {
          "base_uri": "https://localhost:8080/",
          "height": 34
        },
        "outputId": "828a2bfc-a46c-4233-c151-38649af0625c"
      },
      "source": [
        "np.random.uniform(-90.000, 90.000)"
      ],
      "execution_count": 16,
      "outputs": [
        {
          "output_type": "execute_result",
          "data": {
            "text/plain": [
              "37.52254632825348"
            ]
          },
          "metadata": {
            "tags": []
          },
          "execution_count": 16
        }
      ]
    },
    {
      "cell_type": "code",
      "metadata": {
        "id": "QKckva5BjgfU",
        "colab_type": "code",
        "colab": {
          "base_uri": "https://localhost:8080/",
          "height": 51
        },
        "outputId": "e2487b0f-15cf-4ea2-80d9-21a73d4f6351"
      },
      "source": [
        "%timeit np.random.uniform(-90.000, 90.000, size=1500)"
      ],
      "execution_count": 18,
      "outputs": [
        {
          "output_type": "stream",
          "text": [
            "The slowest run took 6.09 times longer than the fastest. This could mean that an intermediate result is being cached.\n",
            "100000 loops, best of 3: 16.9 µs per loop\n"
          ],
          "name": "stdout"
        }
      ]
    },
    {
      "cell_type": "code",
      "metadata": {
        "id": "QOnqUGHtj4gb",
        "colab_type": "code",
        "colab": {
          "base_uri": "https://localhost:8080/",
          "height": 34
        },
        "outputId": "cf2fb4ae-38ba-41c6-eb26-90f55a2c8598"
      },
      "source": [
        "def latitudes(size):\n",
        "    latitudes = []\n",
        "    x = 0\n",
        "    while x < (size):\n",
        "        random_lat = random.randint(-90, 90) + random.random()\n",
        "        latitudes.append(random_lat)\n",
        "        x += 1\n",
        "    return latitudes\n",
        "# Call the function with 1500.\n",
        "%timeit latitudes(1500)"
      ],
      "execution_count": 19,
      "outputs": [
        {
          "output_type": "stream",
          "text": [
            "1000 loops, best of 3: 1.95 ms per loop\n"
          ],
          "name": "stdout"
        }
      ]
    },
    {
      "cell_type": "code",
      "metadata": {
        "id": "yQMbKnv_k8Yp",
        "colab_type": "code",
        "colab": {
          "base_uri": "https://localhost:8080/",
          "height": 51
        },
        "outputId": "60fc5863-b725-4848-fe10-5d3c63cacd4b"
      },
      "source": [
        "np.random.uniform(-90.000, 90.000, size=1500)"
      ],
      "execution_count": 20,
      "outputs": [
        {
          "output_type": "execute_result",
          "data": {
            "text/plain": [
              "array([-55.89360896, -87.87963595,  26.6189139 , ...,  70.5826047 ,\n",
              "        59.91641326,  64.2515302 ])"
            ]
          },
          "metadata": {
            "tags": []
          },
          "execution_count": 20
        }
      ]
    },
    {
      "cell_type": "code",
      "metadata": {
        "id": "kxVbLfEkk_ed",
        "colab_type": "code",
        "colab": {
          "base_uri": "https://localhost:8080/",
          "height": 34
        },
        "outputId": "8c97fc7c-38be-40ca-ee3d-e4c9bc5399cd"
      },
      "source": [
        "# Create a set of random latitude and longitude combinations.\n",
        "lats = np.random.uniform(low=-90.000, high=90.000, size=1500)\n",
        "lngs = np.random.uniform(low=-180.000, high=180.000, size=1500)\n",
        "lat_lngs = zip(lats, lngs)\n",
        "lat_lngs"
      ],
      "execution_count": 21,
      "outputs": [
        {
          "output_type": "execute_result",
          "data": {
            "text/plain": [
              "<zip at 0x7f2903c2d688>"
            ]
          },
          "metadata": {
            "tags": []
          },
          "execution_count": 21
        }
      ]
    },
    {
      "cell_type": "code",
      "metadata": {
        "id": "8AKlcEnKlCz6",
        "colab_type": "code",
        "colab": {
          "base_uri": "https://localhost:8080/",
          "height": 197
        },
        "outputId": "a10ee699-c6ae-400d-8698-fe08ca4f8a1e"
      },
      "source": [
        "# Use the tuple() function to display the latitude and longitude combinations.\n",
        "for coordinate in coordinates:\n",
        "    print(coordinate[0], coordinate[1])"
      ],
      "execution_count": 22,
      "outputs": [
        {
          "output_type": "error",
          "ename": "NameError",
          "evalue": "ignored",
          "traceback": [
            "\u001b[0;31m---------------------------------------------------------------------------\u001b[0m",
            "\u001b[0;31mNameError\u001b[0m                                 Traceback (most recent call last)",
            "\u001b[0;32m<ipython-input-22-0e7c6679ea25>\u001b[0m in \u001b[0;36m<module>\u001b[0;34m()\u001b[0m\n\u001b[1;32m      1\u001b[0m \u001b[0;31m# Use the tuple() function to display the latitude and longitude combinations.\u001b[0m\u001b[0;34m\u001b[0m\u001b[0;34m\u001b[0m\u001b[0;34m\u001b[0m\u001b[0m\n\u001b[0;32m----> 2\u001b[0;31m \u001b[0;32mfor\u001b[0m \u001b[0mcoordinate\u001b[0m \u001b[0;32min\u001b[0m \u001b[0mcoordinates\u001b[0m\u001b[0;34m:\u001b[0m\u001b[0;34m\u001b[0m\u001b[0;34m\u001b[0m\u001b[0m\n\u001b[0m\u001b[1;32m      3\u001b[0m     \u001b[0mprint\u001b[0m\u001b[0;34m(\u001b[0m\u001b[0mcoordinate\u001b[0m\u001b[0;34m[\u001b[0m\u001b[0;36m0\u001b[0m\u001b[0;34m]\u001b[0m\u001b[0;34m,\u001b[0m \u001b[0mcoordinate\u001b[0m\u001b[0;34m[\u001b[0m\u001b[0;36m1\u001b[0m\u001b[0;34m]\u001b[0m\u001b[0;34m)\u001b[0m\u001b[0;34m\u001b[0m\u001b[0;34m\u001b[0m\u001b[0m\n",
            "\u001b[0;31mNameError\u001b[0m: name 'coordinates' is not defined"
          ]
        }
      ]
    }
  ]
}